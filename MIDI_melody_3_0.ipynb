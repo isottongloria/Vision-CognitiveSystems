{
  "cells": [
    {
      "cell_type": "markdown",
      "metadata": {
        "id": "view-in-github",
        "colab_type": "text"
      },
      "source": [
        "<a href=\"https://colab.research.google.com/github/isottongloria/Vision-CognitiveSystems/blob/main/MIDI_melody_3_0.ipynb\" target=\"_parent\"><img src=\"https://colab.research.google.com/assets/colab-badge.svg\" alt=\"Open In Colab\"/></a>"
      ]
    },
    {
      "cell_type": "code",
      "source": [
        "!pip install mido"
      ],
      "metadata": {
        "colab": {
          "base_uri": "https://localhost:8080/"
        },
        "id": "yxgFIpLnWcn-",
        "outputId": "7ab38715-e9ec-4937-cdcf-b665f5e4c069"
      },
      "id": "yxgFIpLnWcn-",
      "execution_count": 2,
      "outputs": [
        {
          "output_type": "stream",
          "name": "stdout",
          "text": [
            "Collecting mido\n",
            "  Downloading mido-1.3.2-py3-none-any.whl (54 kB)\n",
            "\u001b[2K     \u001b[90m━━━━━━━━━━━━━━━━━━━━━━━━━━━━━━━━━━━━━━━━\u001b[0m \u001b[32m54.6/54.6 kB\u001b[0m \u001b[31m651.2 kB/s\u001b[0m eta \u001b[36m0:00:00\u001b[0m\n",
            "\u001b[?25hCollecting packaging~=23.1 (from mido)\n",
            "  Downloading packaging-23.2-py3-none-any.whl (53 kB)\n",
            "\u001b[2K     \u001b[90m━━━━━━━━━━━━━━━━━━━━━━━━━━━━━━━━━━━━━━━━\u001b[0m \u001b[32m53.0/53.0 kB\u001b[0m \u001b[31m4.1 MB/s\u001b[0m eta \u001b[36m0:00:00\u001b[0m\n",
            "\u001b[?25hInstalling collected packages: packaging, mido\n",
            "  Attempting uninstall: packaging\n",
            "    Found existing installation: packaging 24.1\n",
            "    Uninstalling packaging-24.1:\n",
            "      Successfully uninstalled packaging-24.1\n",
            "Successfully installed mido-1.3.2 packaging-23.2\n"
          ]
        }
      ]
    },
    {
      "cell_type": "code",
      "execution_count": 3,
      "id": "65c5c206",
      "metadata": {
        "id": "65c5c206"
      },
      "outputs": [],
      "source": [
        "import mido\n",
        "import matplotlib\n",
        "import numpy as np\n",
        "import zipfile"
      ]
    },
    {
      "cell_type": "markdown",
      "id": "fa9924f4",
      "metadata": {
        "id": "fa9924f4"
      },
      "source": [
        "## Bytes encoding PENSARCI"
      ]
    },
    {
      "cell_type": "code",
      "execution_count": 4,
      "id": "a69a0d49",
      "metadata": {
        "id": "a69a0d49",
        "colab": {
          "base_uri": "https://localhost:8080/",
          "height": 211
        },
        "outputId": "c6473586-2579-4a3b-baf4-add1be01081c"
      },
      "outputs": [
        {
          "output_type": "error",
          "ename": "NameError",
          "evalue": "name 'bars' is not defined",
          "traceback": [
            "\u001b[0;31m---------------------------------------------------------------------------\u001b[0m",
            "\u001b[0;31mNameError\u001b[0m                                 Traceback (most recent call last)",
            "\u001b[0;32m<ipython-input-4-5e1118bc8d37>\u001b[0m in \u001b[0;36m<cell line: 1>\u001b[0;34m()\u001b[0m\n\u001b[0;32m----> 1\u001b[0;31m \u001b[0mn_bars\u001b[0m \u001b[0;34m=\u001b[0m \u001b[0mlen\u001b[0m\u001b[0;34m(\u001b[0m\u001b[0mbars\u001b[0m\u001b[0;34m)\u001b[0m\u001b[0;34m\u001b[0m\u001b[0;34m\u001b[0m\u001b[0m\n\u001b[0m\u001b[1;32m      2\u001b[0m \u001b[0mnote_bars_byte\u001b[0m \u001b[0;34m=\u001b[0m \u001b[0mnp\u001b[0m\u001b[0;34m.\u001b[0m\u001b[0mzeros\u001b[0m\u001b[0;34m(\u001b[0m\u001b[0;34m(\u001b[0m\u001b[0mint\u001b[0m\u001b[0;34m(\u001b[0m\u001b[0mn_bars\u001b[0m\u001b[0;34m)\u001b[0m\u001b[0;34m,\u001b[0m\u001b[0mint\u001b[0m\u001b[0;34m(\u001b[0m\u001b[0mnotes_per_bar\u001b[0m\u001b[0;34m)\u001b[0m\u001b[0;34m,\u001b[0m\u001b[0;36m8\u001b[0m\u001b[0;34m)\u001b[0m\u001b[0;34m)\u001b[0m\u001b[0;34m\u001b[0m\u001b[0;34m\u001b[0m\u001b[0m\n\u001b[1;32m      3\u001b[0m \u001b[0;34m\u001b[0m\u001b[0m\n\u001b[1;32m      4\u001b[0m \u001b[0;34m\u001b[0m\u001b[0m\n\u001b[1;32m      5\u001b[0m \u001b[0;32mfor\u001b[0m \u001b[0mi\u001b[0m \u001b[0;32min\u001b[0m \u001b[0mrange\u001b[0m\u001b[0;34m(\u001b[0m\u001b[0;36m0\u001b[0m\u001b[0;34m,\u001b[0m\u001b[0mlen\u001b[0m\u001b[0;34m(\u001b[0m\u001b[0mbars\u001b[0m\u001b[0;34m)\u001b[0m\u001b[0;34m)\u001b[0m\u001b[0;34m:\u001b[0m\u001b[0;34m\u001b[0m\u001b[0;34m\u001b[0m\u001b[0m\n",
            "\u001b[0;31mNameError\u001b[0m: name 'bars' is not defined"
          ]
        }
      ],
      "source": [
        "n_bars = len(bars)\n",
        "note_bars_byte = np.zeros((int(n_bars),int(notes_per_bar),8))\n",
        "\n",
        "\n",
        "for i in range(0,len(bars)):\n",
        "    bar = bars[i]\n",
        "    notes_list = []\n",
        "    for t,j in enumerate(range(1,len(bar)-1,note_length)):\n",
        "        timestep_bar = bar[j:j+note_length]\n",
        "        note = most_frequent(timestep_bar)   #most frequent note in the timestep, ignoring silence\n",
        "\n",
        "        if note!=None :\n",
        "            note_bars_byte[i,t,:] = np.unpackbits(bytearray(bytes([int(note)])))  #assign one to the corresponding note"
      ]
    },
    {
      "cell_type": "code",
      "execution_count": null,
      "id": "7ecd8b43",
      "metadata": {
        "id": "7ecd8b43",
        "outputId": "94fa6246-6dbe-43a4-e4bf-76f803141f44"
      },
      "outputs": [
        {
          "data": {
            "text/plain": [
              "array([0., 1., 0., 0., 1., 0., 1., 1.])"
            ]
          },
          "execution_count": 251,
          "metadata": {},
          "output_type": "execute_result"
        }
      ],
      "source": [
        "note_bars_byte[0,11,:]"
      ]
    },
    {
      "cell_type": "code",
      "execution_count": null,
      "id": "b3e267d7",
      "metadata": {
        "id": "b3e267d7",
        "outputId": "9178149a-aebf-425f-c32a-a2926a41ff06"
      },
      "outputs": [
        {
          "data": {
            "text/plain": [
              "(8, 12, 8)"
            ]
          },
          "execution_count": 253,
          "metadata": {},
          "output_type": "execute_result"
        }
      ],
      "source": [
        "note_bars_byte.shape"
      ]
    },
    {
      "cell_type": "markdown",
      "source": [
        "## Import dataset"
      ],
      "metadata": {
        "id": "Z6y2gcvxX3Sb"
      },
      "id": "Z6y2gcvxX3Sb"
    },
    {
      "cell_type": "code",
      "source": [
        "zip_file_path = '/content/dataset_lakh.zip'\n",
        "extract_dir = '/content/'\n",
        "\n",
        "# Extract all the contents of the zip file\n",
        "with zipfile.ZipFile(zip_file_path, 'r') as zip_ref:\n",
        "    zip_ref.extractall(extract_dir)\n",
        "\n",
        "npy_file_path = '/content/dataset_lakh.npy'\n",
        "\n",
        "# Load the .npy file\n",
        "loaded_dataset = np.load(npy_file_path)\n",
        "print(loaded_dataset.shape)"
      ],
      "metadata": {
        "colab": {
          "base_uri": "https://localhost:8080/"
        },
        "id": "41IobCeYX2x4",
        "outputId": "7a130a47-5c71-4ff8-ba36-6e37a5123beb"
      },
      "id": "41IobCeYX2x4",
      "execution_count": 5,
      "outputs": [
        {
          "output_type": "stream",
          "name": "stdout",
          "text": [
            "(2698, 8, 64, 128)\n"
          ]
        }
      ]
    },
    {
      "cell_type": "markdown",
      "source": [
        "# **MODEL**"
      ],
      "metadata": {
        "id": "SxYqzye_CEFv"
      },
      "id": "SxYqzye_CEFv"
    },
    {
      "cell_type": "code",
      "source": [
        "import numpy as np\n",
        "import torch\n",
        "import torch.nn as nn\n",
        "from torch.utils.data import DataLoader\n",
        "import torch.nn.functional as F\n",
        "import torch.optim as optim\n",
        "#import ipdb\n",
        "import matplotlib\n",
        "matplotlib.use('Agg')\n",
        "import matplotlib.pyplot as plt\n",
        "#from ops import *\n",
        "\n",
        "def conv_prev_concat(x, y):\n",
        "    \"\"\"Concatenate conditioning vector on feature map axis.\"\"\"\n",
        "    x_shapes = x.shape\n",
        "    y_shapes = y.shape\n",
        "    if x_shapes[2:] == y_shapes[2:]:\n",
        "        y2 = y.expand(x_shapes[0],y_shapes[1],x_shapes[2],x_shapes[3])\n",
        "\n",
        "        return torch.cat((x, y2),1)\n",
        "\n",
        "    else:\n",
        "        print(x_shapes[2:])\n",
        "        print(y_shapes[2:])\n",
        "\n",
        "\n",
        "def lrelu(x, leak=0.2):\n",
        "    z = torch.mul(x,leak)\n",
        "    return torch.max(x, z)\n",
        "\n",
        "def batch_norm_1d(x):\n",
        "    x_shape = x.shape[1]\n",
        "    batch_nor = nn.BatchNorm1d(x_shape, eps=1e-05, momentum=0.9, affine=True)\n",
        "    batch_nor = batch_nor.cuda()\n",
        "\n",
        "    output = batch_nor(x)\n",
        "    return output\n",
        "\n",
        "def batch_norm_2d(x):\n",
        "    x_shape = x.shape[1]\n",
        "    batch_nor = nn.BatchNorm2d(x_shape, eps=1e-05, momentum=0.9, affine=True)\n",
        "    batch_nor = batch_nor.cuda()\n",
        "    output = batch_nor(x)\n",
        "    return output\n",
        "\n",
        "\n",
        "class generator(nn.Module):\n",
        "    def __init__(self,pitch_range):\n",
        "        super(generator, self).__init__()\n",
        "        self.gf_dim   = 64\n",
        "        #self.y_dim   = 13\n",
        "        self.n_channel = 256\n",
        "\n",
        "        self.h1      = nn.ConvTranspose2d(in_channels=192, out_channels=pitch_range, kernel_size=(2,1), stride=(2,2))\n",
        "        self.h2      = nn.ConvTranspose2d(in_channels=192, out_channels=pitch_range, kernel_size=(2,1), stride=(2,2))\n",
        "        self.h3      = nn.ConvTranspose2d(in_channels=192, out_channels=pitch_range, kernel_size=(2,1), stride=(2,2))\n",
        "        self.h4      = nn.ConvTranspose2d(in_channels=192, out_channels=1, kernel_size=(1,pitch_range), stride=(1,2))\n",
        "\n",
        "        self.h0_prev = nn.Conv2d(in_channels=1, out_channels=64, kernel_size=(1,pitch_range), stride=(1,2))   # 16 -> 64\n",
        "        self.h1_prev = nn.Conv2d(in_channels=64, out_channels=64, kernel_size=(2,1), stride=(2,2))\n",
        "        self.h2_prev = nn.Conv2d(in_channels=64, out_channels=64, kernel_size=(2,1), stride=(2,2))\n",
        "        self.h3_prev = nn.Conv2d(in_channels=64, out_channels=64, kernel_size=(2,1), stride=(2,2))\n",
        "\n",
        "        self.linear1 = nn.Linear(100,4096)\n",
        "        self.linear2 = nn.Linear(4096,self.gf_dim*4*4)\n",
        "\n",
        "    def forward(self, z, prev_x ,batch_size,pitch_range):\n",
        "\n",
        "        # h3_prev = F.leaky_relu(self.batch_nor_256(self.h0_prev(prev_x)),0.2)\n",
        "        h0_prev = lrelu(batch_norm_2d(self.h0_prev(prev_x)),0.2)   #[72, 64, 64, 1]\n",
        "        print(\"shapes for the conditioner\")\n",
        "        print(h0_prev.shape)\n",
        "        h1_prev = lrelu(batch_norm_2d(self.h1_prev(h0_prev)),0.2)  #[72, 64, 32, 1]\n",
        "        print(h1_prev.shape)\n",
        "        h2_prev = lrelu(batch_norm_2d(self.h2_prev(h1_prev)),0.2)  #[72, 64, 16, 1]\n",
        "        print(h2_prev.shape)\n",
        "        h3_prev = lrelu(batch_norm_2d(self.h3_prev(h2_prev)),0.2)  #[72, 64, 8, 1])\n",
        "        print(h3_prev.shape)\n",
        "        #yb = y.view(batch_size,  self.y_dim, 1, 1)  #(72,13,1,1)\n",
        "\n",
        "        #z = torch.cat((z,y),1)         #(72,113)\n",
        "        print(\"shapes for the generator\")\n",
        "        h0 = F.relu(batch_norm_1d(self.linear1(z)))    #(72,4096)\n",
        "        print(h0.shape)\n",
        "        #h0 = torch.cat((h0,y),1)   #(72,1037)\n",
        "\n",
        "        h1 = F.relu(batch_norm_1d(self.linear2(h0)))   #(72, 1024)\n",
        "        print(h1.shape)\n",
        "        h1 = h1.view(batch_size, self.gf_dim *2, 2*4, 1)     #(72,128,8,1)\n",
        "        print(h1.shape)\n",
        "        #h1 = conv_cond_concat(h1,yb) #(b,141,8,1)\n",
        "        h1 = conv_prev_concat(h1,h3_prev)  #(72, 144, 8, 1) if y not used,  (72, 157, 8, 1) if y used\n",
        "        print(h1.shape)\n",
        "\n",
        "        h2 = F.relu(batch_norm_2d(self.h1(h1)))  #(72, 128, 16, 1)\n",
        "        print(h2.shape)\n",
        "        #h2 = conv_cond_concat(h2,yb) #([72, 141, 16, 1])\n",
        "        h2 = conv_prev_concat(h2,h2_prev)  #([72, 144, 16, 1])\n",
        "        print(h2.shape)\n",
        "\n",
        "        h3 = F.relu(batch_norm_2d(self.h2(h2)))  #([72, 128, 32, 1])\n",
        "        print(h3.shape)\n",
        "        #h3 = conv_cond_concat(h3,yb)  #([72, 141, 32, 1])\n",
        "        h3 = conv_prev_concat(h3,h1_prev) #([72, 144, 32, 1])\n",
        "        print(h3.shape)\n",
        "\n",
        "        h4 = F.relu(batch_norm_2d(self.h3(h3)))  #([72, 128, 64, 1])\n",
        "        print(h4.shape)\n",
        "        #h4 = conv_cond_concat(h4,yb)  #([72, 141, 64, 1])\n",
        "        h4 = conv_prev_concat(h4,h0_prev) #([72, 144, 64, 1])\n",
        "        print(h4.shape)\n",
        "\n",
        "        g_x = torch.sigmoid(self.h4(h4)) #([72, 1, 64, 128])\n",
        "        print(g_x.shape)\n",
        "        return g_x\n",
        "\n",
        "\n",
        "class discriminator(nn.Module):\n",
        "    def __init__(self,pitch_range):\n",
        "        super(discriminator, self).__init__()\n",
        "\n",
        "        self.df_dim = 64\n",
        "        self.dfc_dim = 1024\n",
        "        #self.y_dim = 13\n",
        "\n",
        "        self.h0_prev = nn.Conv2d(in_channels=14, out_channels=14, kernel_size=(2,pitch_range), stride=(2,2))  #ma 14 da dove viene fuori\n",
        "        #out channels = y_dim +1\n",
        "        self.h1_prev = nn.Conv2d(in_channels=27, out_channels=77, kernel_size=(4,1), stride=(2,2))\n",
        "        # out channels = df_dim + y_dim\n",
        "        self.linear1 = nn.Linear(244,self.dfc_dim)\n",
        "        self.linear2 = nn.Linear(1037,1)\n",
        "\n",
        "    def forward(self,x,y,batch_size,pitch_range):\n",
        "\n",
        "        #yb = y.view(batch_size,self.y_dim, 1, 1)\n",
        "        #x = conv_cond_concat(x, yb)  #x.shape torch.Size([72, 14, 16, 128])\n",
        "\n",
        "        h0 = lrelu(self.h0_prev(x),0.2)\n",
        "        fm = h0\n",
        "        #h0 = conv_cond_concat(h0, yb) #torch.Size([72, 27, 8, 1])\n",
        "\n",
        "        h1 = lrelu(batch_norm_2d(self.h1_prev(h0)),0.2)  #torch.Size([72, 77, 3, 1])\n",
        "        h1 = h1.view(batch_size, -1)  #torch.Size([72, 231])\n",
        "        #h1 = torch.cat((h1,y),1)  #torch.Size([72, 244])\n",
        "\n",
        "        h2 = lrelu(batch_norm_1d(self.linear1(h1)))\n",
        "        #h2 = torch.cat((h2,y),1)  #torch.Size([72, 1037])\n",
        "\n",
        "        h3 = self.linear2(h2)\n",
        "        h3_sigmoid = torch.sigmoid(h3)\n",
        "\n",
        "\n",
        "        return h3_sigmoid, h3, fm"
      ],
      "metadata": {
        "id": "--hjZUKbBwSy"
      },
      "id": "--hjZUKbBwSy",
      "execution_count": 57,
      "outputs": []
    },
    {
      "cell_type": "code",
      "source": [
        "def weights_init(m):\n",
        "    classname = m.__class__.__name__\n",
        "    if classname.find('Conv') != -1:\n",
        "        # nn.init.normal_(m.weight.data, 0.0, 0.02)\n",
        "        nn.init.xavier_uniform_(m.weight.data)\n",
        "    if classname.find('Linear') != -1:\n",
        "        #nn.init.normal_(m.weight.data, 0.0, 0.02)\n",
        "        nn.init.xavier_uniform_(m.weight.data)\n",
        "    elif classname.find('BatchNorm') != -1:\n",
        "        nn.init.normal_(m.weight.data, 1.0, 0.2)\n",
        "        nn.init.constant_(m.bias.data, 0)"
      ],
      "metadata": {
        "id": "corsU_MxBwV0"
      },
      "id": "corsU_MxBwV0",
      "execution_count": 7,
      "outputs": []
    },
    {
      "cell_type": "code",
      "source": [
        "def weights_init_gpt(m):\n",
        "    classname = m._class.name_\n",
        "    if classname.find('Conv') != -1:\n",
        "        # Initialize convolutional layer weights\n",
        "        nn.init.xavier_uniform_(m.weight.data)  # or use nn.init.normal_ with appropriate parameters\n",
        "    elif classname.find('Linear') != -1:\n",
        "        # Initialize linear layer weights\n",
        "        nn.init.xavier_uniform_(m.weight.data)  # or use nn.init.normal_ with appropriate parameters\n",
        "    elif classname.find('BatchNorm') != -1:\n",
        "        # Initialize batch normalization weights (if needed)\n",
        "        nn.init.normal_(m.weight.data, 1.0, 0.02)  # Example initialization for batch norm\n",
        "\n",
        "    # Initialize bias terms if they exist\n",
        "    if hasattr(m, 'bias') and m.bias is not None:\n",
        "        nn.init.constant_(m.bias.data, 0.0)"
      ],
      "metadata": {
        "id": "cI77ObkumT7B"
      },
      "id": "cI77ObkumT7B",
      "execution_count": 8,
      "outputs": []
    },
    {
      "cell_type": "code",
      "source": [
        "device = torch.device('cuda')\n",
        "\n",
        "noise = torch.randn(72, 100).to(device)\n",
        "\n",
        "prev_x = loaded_dataset[0:9,:,:,:]\n",
        "prev_x = torch.from_numpy(prev_x)\n",
        "prev_x.to(device)\n",
        "prev_x = prev_x.float()\n",
        "\n",
        "\n",
        "# Commento di oggi 09/07: credo che sia al contrario, cioè prev_x_res = prev_x.view(72,1,64,128)\n",
        "# Non l'ho potuto provare perchè colab oggi mi odia a quanto pare\n",
        "#prev_x_res = prev_x.view(1,72,64,128)\n",
        "prev_x_res = prev_x.view(72,1,64,128)\n",
        "prev_x_res = prev_x_res.to(device)"
      ],
      "metadata": {
        "id": "FUNJLyMaTRzu"
      },
      "id": "FUNJLyMaTRzu",
      "execution_count": 58,
      "outputs": []
    },
    {
      "cell_type": "code",
      "source": [
        "gennaro = generator(128)"
      ],
      "metadata": {
        "id": "aEoEb6Tsj6xa"
      },
      "id": "aEoEb6Tsj6xa",
      "execution_count": 59,
      "outputs": []
    },
    {
      "cell_type": "code",
      "source": [
        "gennaro = gennaro.to(device)"
      ],
      "metadata": {
        "id": "7LSS5IYdgTU6"
      },
      "id": "7LSS5IYdgTU6",
      "execution_count": 60,
      "outputs": []
    },
    {
      "cell_type": "code",
      "source": [
        "generated_bar = gennaro(noise, prev_x_res, 72, 128).detach()\n",
        "print(generated_bar.shape)"
      ],
      "metadata": {
        "colab": {
          "base_uri": "https://localhost:8080/"
        },
        "id": "T7W-4BWRXQUD",
        "outputId": "02199441-0945-4417-f8ea-7ac2f4ac9739"
      },
      "id": "T7W-4BWRXQUD",
      "execution_count": 61,
      "outputs": [
        {
          "output_type": "stream",
          "name": "stdout",
          "text": [
            "shapes for the conditioner\n",
            "torch.Size([72, 64, 64, 1])\n",
            "torch.Size([72, 64, 32, 1])\n",
            "torch.Size([72, 64, 16, 1])\n",
            "torch.Size([72, 64, 8, 1])\n",
            "shapes for the generator\n",
            "torch.Size([72, 4096])\n",
            "torch.Size([72, 1024])\n",
            "torch.Size([72, 128, 8, 1])\n",
            "torch.Size([72, 192, 8, 1])\n",
            "torch.Size([72, 128, 16, 1])\n",
            "torch.Size([72, 192, 16, 1])\n",
            "torch.Size([72, 128, 32, 1])\n",
            "torch.Size([72, 192, 32, 1])\n",
            "torch.Size([72, 128, 64, 1])\n",
            "torch.Size([72, 192, 64, 1])\n",
            "torch.Size([72, 1, 64, 128])\n",
            "torch.Size([72, 1, 64, 128])\n"
          ]
        }
      ]
    },
    {
      "cell_type": "code",
      "source": [
        "generated_bar[0,0,:,:]"
      ],
      "metadata": {
        "colab": {
          "base_uri": "https://localhost:8080/"
        },
        "id": "02jmACUUn9XE",
        "outputId": "6edaa947-45c4-4129-9774-6cd145320b3c"
      },
      "id": "02jmACUUn9XE",
      "execution_count": 62,
      "outputs": [
        {
          "output_type": "execute_result",
          "data": {
            "text/plain": [
              "tensor([[0.6288, 0.2622, 0.5301,  ..., 0.6883, 0.4885, 0.5026],\n",
              "        [0.6284, 0.3725, 0.6066,  ..., 0.2318, 0.3651, 0.5578],\n",
              "        [0.5901, 0.2571, 0.6481,  ..., 0.4928, 0.3160, 0.6349],\n",
              "        ...,\n",
              "        [0.6638, 0.4620, 0.5230,  ..., 0.4737, 0.4403, 0.5013],\n",
              "        [0.6516, 0.4310, 0.7133,  ..., 0.4965, 0.6449, 0.4530],\n",
              "        [0.6170, 0.2232, 0.5867,  ..., 0.4387, 0.4986, 0.4768]],\n",
              "       device='cuda:0')"
            ]
          },
          "metadata": {},
          "execution_count": 62
        }
      ]
    },
    {
      "cell_type": "code",
      "source": [
        "prev_x_res.shape"
      ],
      "metadata": {
        "colab": {
          "base_uri": "https://localhost:8080/"
        },
        "id": "LI2gRBbgTR2l",
        "outputId": "3c646147-8b1a-488d-a32d-1bf0d3eedd1a"
      },
      "id": "LI2gRBbgTR2l",
      "execution_count": null,
      "outputs": [
        {
          "output_type": "execute_result",
          "data": {
            "text/plain": [
              "torch.Size([1, 72, 64, 128])"
            ]
          },
          "metadata": {},
          "execution_count": 14
        }
      ]
    },
    {
      "cell_type": "code",
      "source": [
        "print(gennaro)"
      ],
      "metadata": {
        "id": "xKxTllpoBwYi",
        "colab": {
          "base_uri": "https://localhost:8080/"
        },
        "outputId": "b5bb5344-2f56-4a5d-bdf8-b3bf66008491"
      },
      "id": "xKxTllpoBwYi",
      "execution_count": null,
      "outputs": [
        {
          "output_type": "stream",
          "name": "stdout",
          "text": [
            "generator(\n",
            "  (h1): ConvTranspose2d(144, 128, kernel_size=(2, 1), stride=(2, 2))\n",
            "  (h2): ConvTranspose2d(144, 128, kernel_size=(2, 1), stride=(2, 2))\n",
            "  (h3): ConvTranspose2d(144, 128, kernel_size=(2, 1), stride=(2, 2))\n",
            "  (h4): ConvTranspose2d(144, 1, kernel_size=(1, 128), stride=(1, 2))\n",
            "  (h0_prev): Conv2d(1, 64, kernel_size=(1, 128), stride=(1, 2))\n",
            "  (h1_prev): Conv2d(64, 64, kernel_size=(2, 1), stride=(2, 2))\n",
            "  (h2_prev): Conv2d(64, 64, kernel_size=(2, 1), stride=(2, 2))\n",
            "  (h3_prev): Conv2d(64, 64, kernel_size=(2, 1), stride=(2, 2))\n",
            "  (linear1): Linear(in_features=100, out_features=1024, bias=True)\n",
            "  (linear2): Linear(in_features=1024, out_features=256, bias=True)\n",
            ")\n"
          ]
        }
      ]
    },
    {
      "cell_type": "code",
      "source": [],
      "metadata": {
        "id": "EgbvHEY1mqJv"
      },
      "id": "EgbvHEY1mqJv",
      "execution_count": null,
      "outputs": []
    }
  ],
  "metadata": {
    "kernelspec": {
      "display_name": "Python 3",
      "name": "python3"
    },
    "language_info": {
      "codemirror_mode": {
        "name": "ipython",
        "version": 3
      },
      "file_extension": ".py",
      "mimetype": "text/x-python",
      "name": "python",
      "nbconvert_exporter": "python",
      "pygments_lexer": "ipython3",
      "version": "3.10.9"
    },
    "colab": {
      "provenance": [],
      "gpuType": "T4",
      "include_colab_link": true
    },
    "accelerator": "GPU"
  },
  "nbformat": 4,
  "nbformat_minor": 5
}